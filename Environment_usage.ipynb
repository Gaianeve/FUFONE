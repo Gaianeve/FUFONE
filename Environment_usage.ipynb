{
  "nbformat": 4,
  "nbformat_minor": 0,
  "metadata": {
    "colab": {
      "provenance": [],
      "toc_visible": true
    },
    "kernelspec": {
      "name": "python3",
      "display_name": "Python 3"
    },
    "language_info": {
      "name": "python"
    }
  },
  "cells": [
    {
      "cell_type": "markdown",
      "source": [
        "# Test the environment\n",
        "This notebook shows how to create the environment FUFI and render it. Remember: must upload the environment to use it."
      ],
      "metadata": {
        "id": "k_ZyHCA5_4dg"
      }
    },
    {
      "cell_type": "markdown",
      "source": [
        "## Burocracy\n",
        "importing libraries and install dependencies nedeed for rendering. GPU needed only for rendering."
      ],
      "metadata": {
        "id": "KCJ7HulhAGWr"
      }
    },
    {
      "cell_type": "code",
      "source": [
        "'''\n",
        "# Checking gpu\n",
        "import tensorflow as tf\n",
        "device_name = tf.test.gpu_device_name()\n",
        "if device_name != '/device:GPU:0':\n",
        "  raise SystemError('GPU device not found')\n",
        "print('Found GPU at: {}'.format(device_name))\n",
        "'''\n",
        "# Install dependencies\n",
        "!apt-get install x11-utils > /dev/null 2>&1\n",
        "!pip install pyglet > /dev/null 2>&1\n",
        "!apt-get install -y xvfb python-opengl > /dev/null 2>&1\n",
        "!pip install gym pyvirtualdisplay > /dev/null 2>&1"
      ],
      "metadata": {
        "id": "RQV1ipaNAXU3"
      },
      "execution_count": 1,
      "outputs": []
    },
    {
      "cell_type": "code",
      "source": [
        "import numpy as np\n",
        "import random\n",
        "from matplotlib import pyplot\n",
        "import matplotlib.pyplot as plt\n",
        "#display plot in a notebook\n",
        "%matplotlib inline\n",
        "\n",
        "#graphic render of the environment\n",
        "from IPython import display as ipythondisplay"
      ],
      "metadata": {
        "id": "VhYC15EKApCY"
      },
      "execution_count": 2,
      "outputs": []
    },
    {
      "cell_type": "markdown",
      "source": [
        "## Way of usage\n",
        "Demonstrate how to create the environment. Must upload git repo in order to correctly use it."
      ],
      "metadata": {
        "id": "VPdz3BoVQw2U"
      }
    },
    {
      "cell_type": "code",
      "source": [
        "#cloning repo from git\n",
        "!git clone https://github.com/Gaianeve/gym-Fufi.git"
      ],
      "metadata": {
        "id": "2jPSCyLOA6oW",
        "colab": {
          "base_uri": "https://localhost:8080/"
        },
        "outputId": "1893d78a-6b38-4537-a5ba-5588eb9b8295"
      },
      "execution_count": 3,
      "outputs": [
        {
          "output_type": "stream",
          "name": "stdout",
          "text": [
            "Cloning into 'gym-Fufi'...\n",
            "remote: Enumerating objects: 95, done.\u001b[K\n",
            "remote: Counting objects: 100% (95/95), done.\u001b[K\n",
            "remote: Compressing objects: 100% (87/87), done.\u001b[K\n",
            "remote: Total 95 (delta 23), reused 0 (delta 0), pack-reused 0\u001b[K\n",
            "Receiving objects: 100% (95/95), 52.17 KiB | 2.37 MiB/s, done.\n",
            "Resolving deltas: 100% (23/23), done.\n"
          ]
        }
      ]
    },
    {
      "cell_type": "code",
      "source": [
        "#installing things\n",
        "!pip install /content/gym-Fufi"
      ],
      "metadata": {
        "colab": {
          "base_uri": "https://localhost:8080/"
        },
        "id": "9K781fKrSd2M",
        "outputId": "2f7728ed-9a4f-48db-ff7c-b3ca49a24571"
      },
      "execution_count": 17,
      "outputs": [
        {
          "output_type": "stream",
          "name": "stdout",
          "text": [
            "Processing /content/gym-Fufi\n",
            "  \u001b[1;31merror\u001b[0m: \u001b[1msubprocess-exited-with-error\u001b[0m\n",
            "  \n",
            "  \u001b[31m×\u001b[0m \u001b[32mpython setup.py egg_info\u001b[0m did not run successfully.\n",
            "  \u001b[31m│\u001b[0m exit code: \u001b[1;36m1\u001b[0m\n",
            "  \u001b[31m╰─>\u001b[0m See above for output.\n",
            "  \n",
            "  \u001b[1;35mnote\u001b[0m: This error originates from a subprocess, and is likely not a problem with pip.\n",
            "  Preparing metadata (setup.py) ... \u001b[?25l\u001b[?25herror\n",
            "\u001b[1;31merror\u001b[0m: \u001b[1mmetadata-generation-failed\u001b[0m\n",
            "\n",
            "\u001b[31m×\u001b[0m Encountered error while generating package metadata.\n",
            "\u001b[31m╰─>\u001b[0m See above for output.\n",
            "\n",
            "\u001b[1;35mnote\u001b[0m: This is an issue with the package mentioned above, not pip.\n",
            "\u001b[1;36mhint\u001b[0m: See above for details.\n",
            "/content/gym-Fufi\n"
          ]
        }
      ]
    },
    {
      "cell_type": "markdown",
      "source": [
        "**NOTE**: In Colab notebook the commands `!pwd` and `!cd` won't work. To get why, you can refer to [this](https://stackoverflow.com/questions/48298146/changing-directory-in-google-colab-breaking-out-of-the-python-interpreter) stackoverflow issue."
      ],
      "metadata": {
        "id": "glJllPx4WDNE"
      }
    },
    {
      "cell_type": "code",
      "source": [
        "# Enter the environment directory\n",
        "%cd /content/gym-Fufi"
      ],
      "metadata": {
        "id": "XclRgBweWGE9"
      },
      "execution_count": null,
      "outputs": []
    },
    {
      "cell_type": "code",
      "source": [
        "import gym\n",
        "# Importing environment\n",
        "import gym_Fufi\n",
        "\n",
        "# Making the environment\n",
        "env = gym.make('Fufi-v0')"
      ],
      "metadata": {
        "colab": {
          "base_uri": "https://localhost:8080/"
        },
        "id": "jAHB9JswRxuW",
        "outputId": "892af138-ea27-4d88-dd3a-986202531449"
      },
      "execution_count": 18,
      "outputs": [
        {
          "output_type": "stream",
          "name": "stderr",
          "text": [
            "/usr/local/lib/python3.10/dist-packages/gym/core.py:317: DeprecationWarning: \u001b[33mWARN: Initializing wrapper in old step API which returns one bool instead of two. It is recommended to set `new_step_api=True` to use new step API. This will be the default behaviour in future.\u001b[0m\n",
            "  deprecation(\n",
            "/usr/local/lib/python3.10/dist-packages/gym/wrappers/step_api_compatibility.py:39: DeprecationWarning: \u001b[33mWARN: Initializing environment in old step API which returns one bool instead of two. It is recommended to set `new_step_api=True` to use new step API. This will be the default behaviour in future.\u001b[0m\n",
            "  deprecation(\n"
          ]
        }
      ]
    },
    {
      "cell_type": "code",
      "source": [
        "'''\n",
        "# render the environment\n",
        "env.reset()\n",
        "screen = env.render()\n",
        "plt.imshow(screen)\n",
        "ipythondisplay.clear_output(wait=True)\n",
        "ipythondisplay.display(plt.gcf())\n",
        "'''"
      ],
      "metadata": {
        "id": "pxVJ6djKAve1"
      },
      "execution_count": null,
      "outputs": []
    }
  ]
}