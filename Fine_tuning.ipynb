{
  "nbformat": 4,
  "nbformat_minor": 0,
  "metadata": {
    "colab": {
      "provenance": [],
      "toc_visible": true
    },
    "kernelspec": {
      "name": "python3",
      "display_name": "Python 3"
    },
    "language_info": {
      "name": "python"
    }
  },
  "cells": [
    {
      "cell_type": "markdown",
      "source": [
        "# 🚀 Wand burocrazia"
      ],
      "metadata": {
        "id": "dplgK9mDbQTS"
      }
    },
    {
      "cell_type": "code",
      "execution_count": 1,
      "metadata": {
        "id": "Q1hGOV2AYpPT",
        "colab": {
          "base_uri": "https://localhost:8080/",
          "height": 191
        },
        "outputId": "76a6d2e5-52b0-47bf-9f92-60b3fdbdaae5"
      },
      "outputs": [
        {
          "output_type": "stream",
          "name": "stdout",
          "text": [
            "\u001b[2K     \u001b[90m━━━━━━━━━━━━━━━━━━━━━━━━━━━━━━━━━━━━━━━━\u001b[0m \u001b[32m6.7/6.7 MB\u001b[0m \u001b[31m16.3 MB/s\u001b[0m eta \u001b[36m0:00:00\u001b[0m\n",
            "\u001b[2K     \u001b[90m━━━━━━━━━━━━━━━━━━━━━━━━━━━━━━━━━━━━━━━━\u001b[0m \u001b[32m207.3/207.3 kB\u001b[0m \u001b[31m6.2 MB/s\u001b[0m eta \u001b[36m0:00:00\u001b[0m\n",
            "\u001b[2K     \u001b[90m━━━━━━━━━━━━━━━━━━━━━━━━━━━━━━━━━━━━━━━━\u001b[0m \u001b[32m281.1/281.1 kB\u001b[0m \u001b[31m10.2 MB/s\u001b[0m eta \u001b[36m0:00:00\u001b[0m\n",
            "\u001b[2K     \u001b[90m━━━━━━━━━━━━━━━━━━━━━━━━━━━━━━━━━━━━━━━━\u001b[0m \u001b[32m62.7/62.7 kB\u001b[0m \u001b[31m4.1 MB/s\u001b[0m eta \u001b[36m0:00:00\u001b[0m\n",
            "\u001b[?25h"
          ]
        },
        {
          "output_type": "display_data",
          "data": {
            "text/plain": [
              "<IPython.core.display.Javascript object>"
            ],
            "application/javascript": [
              "\n",
              "        window._wandbApiKey = new Promise((resolve, reject) => {\n",
              "            function loadScript(url) {\n",
              "            return new Promise(function(resolve, reject) {\n",
              "                let newScript = document.createElement(\"script\");\n",
              "                newScript.onerror = reject;\n",
              "                newScript.onload = resolve;\n",
              "                document.body.appendChild(newScript);\n",
              "                newScript.src = url;\n",
              "            });\n",
              "            }\n",
              "            loadScript(\"https://cdn.jsdelivr.net/npm/postmate/build/postmate.min.js\").then(() => {\n",
              "            const iframe = document.createElement('iframe')\n",
              "            iframe.style.cssText = \"width:0;height:0;border:none\"\n",
              "            document.body.appendChild(iframe)\n",
              "            const handshake = new Postmate({\n",
              "                container: iframe,\n",
              "                url: 'https://wandb.ai/authorize'\n",
              "            });\n",
              "            const timeout = setTimeout(() => reject(\"Couldn't auto authenticate\"), 5000)\n",
              "            handshake.then(function(child) {\n",
              "                child.on('authorize', data => {\n",
              "                    clearTimeout(timeout)\n",
              "                    resolve(data)\n",
              "                });\n",
              "            });\n",
              "            })\n",
              "        });\n",
              "    "
            ]
          },
          "metadata": {}
        },
        {
          "output_type": "stream",
          "name": "stderr",
          "text": [
            "\u001b[34m\u001b[1mwandb\u001b[0m: Logging into wandb.ai. (Learn how to deploy a W&B server locally: https://wandb.me/wandb-server)\n",
            "\u001b[34m\u001b[1mwandb\u001b[0m: You can find your API key in your browser here: https://wandb.ai/authorize\n",
            "wandb: Paste an API key from your profile and hit enter, or press ctrl+c to quit:"
          ]
        },
        {
          "name": "stdout",
          "output_type": "stream",
          "text": [
            " ··········\n"
          ]
        },
        {
          "output_type": "stream",
          "name": "stderr",
          "text": [
            "\u001b[34m\u001b[1mwandb\u001b[0m: Appending key for api.wandb.ai to your netrc file: /root/.netrc\n"
          ]
        },
        {
          "output_type": "execute_result",
          "data": {
            "text/plain": [
              "True"
            ]
          },
          "metadata": {},
          "execution_count": 1
        }
      ],
      "source": [
        "!pip install wandb -Uq\n",
        "import wandb\n",
        "wandb.login()"
      ]
    },
    {
      "cell_type": "markdown",
      "source": [
        "# Define Sweep\n",
        "Let's start with a random search, then optimize with a grid search"
      ],
      "metadata": {
        "id": "9oO744yNbMiD"
      }
    },
    {
      "cell_type": "code",
      "source": [
        "sweep_configuration = {\n",
        "    \"name\": \"Fufino\",\n",
        "    \"method\": \"random\",\n",
        "    \"metric\": {\"goal\": \"maximize\", \"name\": \"loss\"},\n",
        "    \"parameters\": {\n",
        "        \"learning_rate\": {'distribution':'log_uniform_values',  'min': 1e-8, 'max':1.5e-4},\n",
        "        \"num_steps\": {'distribution': 'q_log_uniform_values','q': 8, 'min': 32, 'max':1032},\n",
        "        \"num_envs\": {\"values\": [8, 16, 32]},\n",
        "        \"ent_coeff\": {'distribution':'log_uniform_values',  'min': 1e-5, 'max':1},\n",
        "    },\n",
        "}\n"
      ],
      "metadata": {
        "id": "u_n0V3HCbfC5"
      },
      "execution_count": 8,
      "outputs": []
    },
    {
      "cell_type": "code",
      "source": [
        "#print the result\n",
        "import pprint\n",
        "pprint.pprint(sweep_configuration)"
      ],
      "metadata": {
        "id": "of8Qhz3JMNtU",
        "colab": {
          "base_uri": "https://localhost:8080/"
        },
        "outputId": "97147985-33bd-4848-df92-dafbc2ff090e"
      },
      "execution_count": 9,
      "outputs": [
        {
          "output_type": "stream",
          "name": "stdout",
          "text": [
            "{'method': 'random',\n",
            " 'metric': {'goal': 'maximize', 'name': 'loss'},\n",
            " 'name': 'Fufino',\n",
            " 'parameters': {'ent_coeff': {'distribution': 'log_uniform_values',\n",
            "                              'max': 1,\n",
            "                              'min': 1e-05},\n",
            "                'learning_rate': {'distribution': 'log_uniform_values',\n",
            "                                  'max': 0.00015,\n",
            "                                  'min': 1e-08},\n",
            "                'num_envs': {'values': [8, 16, 32]},\n",
            "                'num_steps': {'distribution': 'q_log_uniform_values',\n",
            "                              'max': 1032,\n",
            "                              'min': 32,\n",
            "                              'q': 8}}}\n"
          ]
        }
      ]
    },
    {
      "cell_type": "code",
      "execution_count": 10,
      "metadata": {
        "id": "gRsJmX87Q23j",
        "colab": {
          "base_uri": "https://localhost:8080/"
        },
        "outputId": "21b6b7f6-4d0b-420f-e47e-f26edde0b12d"
      },
      "outputs": [
        {
          "output_type": "stream",
          "name": "stdout",
          "text": [
            "Create sweep with ID: pq5g3c5q\n",
            "Sweep URL: https://wandb.ai/cartpole_maria_gaia/Fufino/sweeps/pq5g3c5q\n"
          ]
        }
      ],
      "source": [
        "sweep_id = wandb.sweep(sweep_configuration, project=\"Fufino\")"
      ]
    },
    {
      "cell_type": "markdown",
      "source": [
        "#function main to be defined."
      ],
      "metadata": {
        "id": "seDlldQSltyG"
      }
    },
    {
      "cell_type": "code",
      "source": [
        "wandb.agent(sweep_id, main, count=5)"
      ],
      "metadata": {
        "id": "3yDzbEBOjpJ-"
      },
      "execution_count": null,
      "outputs": []
    },
    {
      "cell_type": "code",
      "source": [],
      "metadata": {
        "id": "G5RXFXDPTosZ"
      },
      "execution_count": null,
      "outputs": []
    }
  ]
}