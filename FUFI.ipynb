{
  "nbformat": 4,
  "nbformat_minor": 0,
  "metadata": {
    "colab": {
      "provenance": [],
      "toc_visible": true
    },
    "kernelspec": {
      "name": "python3",
      "display_name": "Python 3"
    },
    "language_info": {
      "name": "python"
    }
  },
  "cells": [
    {
      "cell_type": "markdown",
      "source": [
        "# FUFI environment\n",
        "The environment for our real life Cart-Pole"
      ],
      "metadata": {
        "id": "CQe2El19qPLW"
      }
    },
    {
      "cell_type": "markdown",
      "source": [
        "## Description\n",
        "A pole is attached by an un-actuated joint to a cart, which moves along a track with friction.\n",
        "The pendulum is placed upright on the cart and the goal is to balance the pole by applying forces in the left and right direction on the cart.\n",
        "\n",
        "****\n",
        "                                    Action Space\n",
        "\n",
        "The action is a `ndarray` with shape `(1,)` which can take values in the interval `{F_min, F_max}` indicating the magnitude of the force the cart is pushed with. Basically we take a discrete action space, in which the minimum corresponds to -F_max - AKA the maximum force our engine can give - and +F_max as the maximum. The steps between one value and the other is the minimum force our engine can produce, let's say 0.1 for the time being. Sign - and + refers to our sistem of reference.\n",
        "\n",
        "    | Num  | Action                              |\n",
        "    |------|-------------------------------------|\n",
        "    | -10  | Push cart to the left with F=10 N   |\n",
        "    | -0.9 | Push cart to the left with F=0.9 N  |\n",
        "    | ---- | ----------------------------------- |\n",
        "    | ---- | ----------------------------------- |\n",
        "    | 0.9  | Push cart to the right with F=0.9 N |\n",
        "    | 10   | Push cart to the right with F=10 N  |\n",
        "    \n",
        "****\n",
        "                                    Observation Space\n",
        "\n",
        "The observation is a `ndarray` with shape `(4,)` with the values corresponding to the following positions and velocities:\n",
        "\n",
        "    |Num|   Observation  |    Min     |    Max    |\n",
        "    |---|----------------|------------|-----------|\n",
        "    | 0 |  Pole a_t      | -F_max/m_p | F_max/m_p |\n",
        "    | 1 | Pole Theta     | ~ (-24°)   | ~ (24°)   |\n",
        "    | 2 | Pole Theta dot |    -Inf    |   Inf     |\n",
        "\n",
        "*Note:* While the ranges above denote the possible values for observation space of each element, it is not reflective of the allowed values of the state space in an unterminated episode. In particular:\n",
        "\n",
        "-The cart x-position (index 0) can be take values between `(-4.8, 4.8)`, but the episode terminates if the cart leaves the `(-2.4, 2.4)` range, that means it hits the end of the track.\n",
        "\n",
        "-The pole angle can be observed between `(-.418, .418)` radians `(or ±24°)`, but the episode terminates if the pole angle is not in the range `(-.0349, .0349)` `(or ±2°)`.\n",
        "\n",
        "****\n",
        "                                    Rewards\n",
        "\n",
        "Since the goal is to keep the pole upright for as long as possible, a reward of `+1` for every step taken,including the termination step, is allotted. The threshold for rewards is raised to 1000.\n",
        "****\n",
        "                                  Manner\n",
        "There are 2 ways implemented in this code:\n",
        "1. *Real world* : we take the real FUFI and attach it to the Arduino. The states are measured and imported from a `.txt` file.\n",
        "\n",
        "2. *Ideas world* : simulation mode. The states are computed using the motion equations of the sistem.\n",
        "****\n",
        "                                  Starting State\n",
        "\n",
        "In simulation mode all observations are assigned a uniformly random value in `(-0.05, 0.05)`, in real world mode we take as initial state the inital measures.\n",
        "****\n",
        "                                  Episode End\n",
        "\n",
        "The episode ends if any one of the following occurs:\n",
        "1. Termination: Pole Angle is greater than ±2°;\n",
        "2. Termination: Cart Position is greater than ±2.4,that is when the center of the cart reaches the edge of the display;\n",
        "3. Truncation: Episode length is greater than 1500;\n",
        "****\n",
        "                                Arguments\n",
        "1. `gym.make('Fufi')`"
      ],
      "metadata": {
        "id": "-LfFT27fqdhK"
      }
    },
    {
      "cell_type": "code",
      "source": [
        "# importing things\n",
        "import math\n",
        "from typing import Optional, Union\n",
        "\n",
        "import numpy as np\n",
        "\n",
        "import gym\n",
        "from gym import logger, spaces\n",
        "from gym.envs.classic_control import utils\n",
        "from gym.error import DependencyNotInstalled\n"
      ],
      "metadata": {
        "id": "rPYo9IBXyp7B"
      },
      "execution_count": null,
      "outputs": []
    },
    {
      "cell_type": "code",
      "source": [
        "class FUFI(gym.Env[np.ndarray, Union[int, np.ndarray]]):\n",
        "  metadata = {\n",
        "        \"render_modes\": [\"human\", \"rgb_array\"],\n",
        "        \"render_fps\": 50,\n",
        "    }\n",
        "\n",
        "  def __init__(self, render_mode: Optional[str] = None):\n",
        "## ---------------------------------------- FUFI parameters --------------------------------------- ##\n",
        "## To be changed according to the instrument\n",
        "\n",
        "    self.gravity = 9.8          # m/s**2\n",
        "    self.masscart = 1.0         # Kg\n",
        "    self.masspole = 0.1         # Kg\n",
        "    self.total_mass = self.masspole + self.masscart\n",
        "    self.length = 0.5           # m. Actually half the pole's length\n",
        "    self.polemass_length = self.masspole * self.length\n",
        "    self.max_force_mag = 10.0    # N. Maximum force the engine can produce\n",
        "    self.tau = 0.02             # seconds between state updates\n",
        "    self.kinematics_integrator = \"euler\"\n",
        "    self.sensibility = 0.1      # minimum force mag our engine can produce.\n",
        "                                # Here let's take 0.1\n",
        "\n",
        "    # Angle at which to fail the episode\n",
        "    self.theta_threshold_radians = 2 * 2 * math.pi / 360\n",
        "    # Hits the wall\n",
        "    self.x_threshold = 2.4\n",
        "\n",
        "    # Angle limit set to 2 * theta_threshold_radians so failing observation\n",
        "    # is still within bounds.\n",
        "    high = np.array(\n",
        "        [\n",
        "            self.x_threshold * 2,\n",
        "            np.finfo(np.float32).max,\n",
        "            self.theta_threshold_radians * 2,\n",
        "            np.finfo(np.float32).max,\n",
        "        ],\n",
        "        dtype=np.float32,\n",
        "    )\n",
        "\n",
        "    self.action_space = spaces.Discrete(2)\n",
        "    self.observation_space = spaces.Box(-high, high, dtype=np.float32)\n",
        "\n",
        "    self.render_mode = render_mode\n",
        "\n",
        "    self.screen_width = 600\n",
        "    self.screen_height = 400\n",
        "    self.screen = None\n",
        "    self.clock = None\n",
        "    self.isopen = True\n",
        "    self.state = None\n",
        "\n",
        "    self.steps_beyond_terminated = None\n"
      ],
      "metadata": {
        "id": "Bmi1uGn_3P4A"
      },
      "execution_count": null,
      "outputs": []
    }
  ]
}