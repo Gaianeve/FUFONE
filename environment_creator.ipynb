{
  "nbformat": 4,
  "nbformat_minor": 0,
  "metadata": {
    "colab": {
      "provenance": [],
      "toc_visible": true
    },
    "kernelspec": {
      "name": "python3",
      "display_name": "Python 3"
    },
    "language_info": {
      "name": "python"
    }
  },
  "cells": [
    {
      "cell_type": "markdown",
      "source": [
        "# Environment file\n",
        "This is the file that will actually contain the environment, and make it. For now, let's just make the environment"
      ],
      "metadata": {
        "id": "vM0fQLw80JtD"
      }
    },
    {
      "cell_type": "code",
      "source": [
        "# importing libraries\n",
        "import os\n",
        "import gym"
      ],
      "metadata": {
        "id": "iDdFzqZS0m0_"
      },
      "execution_count": 1,
      "outputs": []
    },
    {
      "cell_type": "code",
      "source": [
        "# making the environment\n",
        "def make_env(gym_id, seed, idx, capture_video, run_name):\n",
        "    def thunk():\n",
        "        env = gym.make(gym_id)\n",
        "        env = gym.wrappers.RecordEpisodeStatistics(env)\n",
        "        if capture_video:\n",
        "            if idx == 0:\n",
        "                env = gym.wrappers.RecordVideo(env, f\"videos/{run_name}\")\n",
        "        env.seed(seed)\n",
        "        env.action_space.seed(seed)\n",
        "        env.observation_space.seed(seed)\n",
        "        return env\n",
        "\n",
        "    return thunk"
      ],
      "metadata": {
        "id": "nub3xqqj0buo",
        "colab": {
          "base_uri": "https://localhost:8080/"
        },
        "outputId": "49ab584a-c904-4cb4-c82d-26183f2f3d35"
      },
      "execution_count": 2,
      "outputs": [
        {
          "output_type": "stream",
          "name": "stderr",
          "text": [
            "/usr/local/lib/python3.10/dist-packages/ipykernel/ipkernel.py:283: DeprecationWarning: `should_run_async` will not call `transform_cell` automatically in the future. Please pass the result to `transformed_cell` argument and any exception that happen during thetransform in `preprocessing_exc_tuple` in IPython 7.17 and above.\n",
            "  and should_run_async(code)\n"
          ]
        }
      ]
    },
    {
      "cell_type": "code",
      "source": [
        "# vectorize environment\n",
        "def vectorize_env(gym_id, seed, capture_video, run_name, num_envs):\n",
        "  envs = gym.vector.SyncVectorEnv(\n",
        "        [make_env(gym_id, seed + i, i, capture_video, run_name) for i in range(num_envs)]\n",
        "  )\n",
        "  assert isinstance(envs.single_action_space, gym.spaces.Discrete), \\\n",
        "  \"only discrete action space is supported\"\n",
        "  return envs"
      ],
      "metadata": {
        "id": "tuqFxih90Gxx"
      },
      "execution_count": 3,
      "outputs": []
    },
    {
      "cell_type": "code",
      "source": [],
      "metadata": {
        "id": "s_yHrvg11Y3S"
      },
      "execution_count": null,
      "outputs": []
    }
  ]
}