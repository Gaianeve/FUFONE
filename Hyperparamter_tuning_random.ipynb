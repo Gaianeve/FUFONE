{
  "nbformat": 4,
  "nbformat_minor": 0,
  "metadata": {
    "colab": {
      "provenance": [],
      "toc_visible": true
    },
    "kernelspec": {
      "name": "python3",
      "display_name": "Python 3"
    },
    "language_info": {
      "name": "python"
    }
  },
  "cells": [
    {
      "cell_type": "markdown",
      "source": [
        "# Tuning Fufi hyperparameters with W&B Sweep 🧹 🐶\n",
        "The idea is automatically tuning hyperparameters with the sweep by the means of a `grid `search.\n",
        "In order not to spend an eternity doing this thing, we start with a` random` search, and then put a `grid `search on it."
      ],
      "metadata": {
        "id": "oPwUAOD80pAf"
      }
    },
    {
      "cell_type": "markdown",
      "source": [
        "## Define the sweep 📑\n",
        "I assume to start with a random search, that is why we take random distribution:\n",
        "*   `batch_size`  ➡  Quantized log uniform. Returns `round(X / q) * q` where `X` is` log_uniform_values`. Basically, a pretty good approximation of a log_q uniform distribution\n",
        "*   `ent_coef ` ➡ Discrete uniform distribution on integers. Between 0.01, that is the default value and 1, that is the thing that works best for now.\n",
        "*  ` num_envs`  ➡ see batch\n",
        "*   `learning_rate` ➡ see batch\n",
        "\n",
        "\n"
      ],
      "metadata": {
        "id": "_aGbm6Li1VpH"
      }
    },
    {
      "cell_type": "code",
      "source": [
        "import wandb\n",
        "import numpy as np\n",
        "import random\n",
        "\n",
        "# Define sweep config\n",
        "sweep_configuration = {\n",
        "    \"method\": \"random\",\n",
        "    \"name\": \"sweep_Fufi\",\n",
        "    \"metric\": {\"goal\": \"maximize\", \"name\": \"reward\"},\n",
        "    \"parameters\": {\n",
        "       \"batch_size\": {'distribution': 'q_log_uniform_values','q': 2,'min': 32,'max': 4096},\n",
        "       \"ent_coef\": {'distribution': 'uniform', 'min': 0.01,'max': 1},\n",
        "       \"num_envs\":  {'distribution': 'q_log_uniform_values','q': 2,'min': 4,'max': 16},\n",
        "       \"learning_rate\":  {'distribution': 'q_log_uniform_values','q': 1,'min': 1.5e-7,'max': 1.5e-4}\n",
        "    },\n",
        "}\n"
      ],
      "metadata": {
        "id": "cWXt2P6o1VVc"
      },
      "execution_count": null,
      "outputs": []
    },
    {
      "cell_type": "code",
      "execution_count": null,
      "metadata": {
        "id": "GYvhH9VK0hkU"
      },
      "outputs": [],
      "source": [
        "#print the result\n",
        "import pprint\n",
        "pprint.pprint(sweep_configuration)"
      ]
    },
    {
      "cell_type": "markdown",
      "source": [
        "## Import main function from git repo 📡\n"
      ],
      "metadata": {
        "id": "edgZNP1zAsB_"
      }
    },
    {
      "cell_type": "code",
      "source": [
        "#git repo things"
      ],
      "metadata": {
        "id": "29fLq-mnIkTm"
      },
      "execution_count": null,
      "outputs": []
    },
    {
      "cell_type": "code",
      "source": [
        "from main_function_sweep import main"
      ],
      "metadata": {
        "id": "G3Kiv67iGmDv"
      },
      "execution_count": null,
      "outputs": []
    },
    {
      "cell_type": "markdown",
      "source": [
        "## Run main with the sweep 🏃 🧹\n",
        "The `wandb.sweep` function initializes the sweep using the configuration. The `wandb.agent `function runs the sweep, executing the `sweep_main` function for each set of parameters.\n",
        "\n",
        "📚 **Handling Parameters in Script**: In `sweep_main`, `wandb.init()` initializes a run. The script updates the args with the parameters from the sweep `(wandb.config)`, which are then passed to the main function.\n",
        "\n",
        "📚 **Note**: Added `if __name__ == \"__main__\":` This ensures that main is called only when the script is executed directly, not when imported as a module."
      ],
      "metadata": {
        "id": "YnfIJfjCGrZw"
      }
    },
    {
      "cell_type": "code",
      "source": [
        "if __name__ == \"__main__\":\n",
        "    sweep_id = wandb.sweep(sweep=sweep_configuration, project=\"Fufi_sweep\")  # Set up the sweep\n",
        "\n",
        "    def sweep_main():\n",
        "        with wandb.init() as run:\n",
        "            args = parse_args()\n",
        "            # Update args with sweep parameters\n",
        "            args.learning_rate = wandb.config.learning_rate\n",
        "            args.batch_size = wandb.config.batch_size\n",
        "            args.ent_coef = wandb.config.ent_coef\n",
        "            args.num_envs = wandb.config.num_envs\n",
        "\n",
        "            main()"
      ],
      "metadata": {
        "id": "L6TXXCcTEJiY"
      },
      "execution_count": null,
      "outputs": []
    },
    {
      "cell_type": "code",
      "source": [
        " wandb.agent(sweep_id, function=sweep_main, count = 30)"
      ],
      "metadata": {
        "id": "YsAeQ7STG7IA"
      },
      "execution_count": null,
      "outputs": []
    }
  ]
}