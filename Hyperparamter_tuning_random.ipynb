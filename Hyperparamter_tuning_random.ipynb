{
  "nbformat": 4,
  "nbformat_minor": 0,
  "metadata": {
    "colab": {
      "provenance": []
    },
    "kernelspec": {
      "name": "python3",
      "display_name": "Python 3"
    },
    "language_info": {
      "name": "python"
    }
  },
  "cells": [
    {
      "cell_type": "markdown",
      "source": [
        "# Tuning Fufi hyperparameters with W&B Sweep 🧹 🐶\n",
        "The idea is automatically tuning hyperparameters with the sweep by the means of a `grid `search.\n",
        "In order not to spend an eternity doing this thing, we start with a` random` search, and then put a `grid `search on it."
      ],
      "metadata": {
        "id": "oPwUAOD80pAf"
      }
    },
    {
      "cell_type": "markdown",
      "source": [
        "## W&B Setup\n",
        "🪄 Install `wandb` library and login\n",
        "\n",
        "Start by installing the library and logging in to your free account."
      ],
      "metadata": {
        "id": "iIhr-60kNaKy"
      }
    },
    {
      "cell_type": "code",
      "source": [
        "!pip install wandb -qU\n",
        "# Log in to your W&B account\n",
        "import wandb\n",
        "wandb.login()"
      ],
      "metadata": {
        "colab": {
          "base_uri": "https://localhost:8080/",
          "height": 191
        },
        "id": "0klJrqifNa_R",
        "outputId": "0554f9fb-dc2a-4af0-8c90-0203ff4e8d71"
      },
      "execution_count": 1,
      "outputs": [
        {
          "output_type": "stream",
          "name": "stdout",
          "text": [
            "\u001b[2K     \u001b[90m━━━━━━━━━━━━━━━━━━━━━━━━━━━━━━━━━━━━━━━━\u001b[0m \u001b[32m6.9/6.9 MB\u001b[0m \u001b[31m14.0 MB/s\u001b[0m eta \u001b[36m0:00:00\u001b[0m\n",
            "\u001b[2K     \u001b[90m━━━━━━━━━━━━━━━━━━━━━━━━━━━━━━━━━━━━━━━━\u001b[0m \u001b[32m207.3/207.3 kB\u001b[0m \u001b[31m7.7 MB/s\u001b[0m eta \u001b[36m0:00:00\u001b[0m\n",
            "\u001b[2K     \u001b[90m━━━━━━━━━━━━━━━━━━━━━━━━━━━━━━━━━━━━━━━━\u001b[0m \u001b[32m300.2/300.2 kB\u001b[0m \u001b[31m12.3 MB/s\u001b[0m eta \u001b[36m0:00:00\u001b[0m\n",
            "\u001b[2K     \u001b[90m━━━━━━━━━━━━━━━━━━━━━━━━━━━━━━━━━━━━━━━━\u001b[0m \u001b[32m62.7/62.7 kB\u001b[0m \u001b[31m3.2 MB/s\u001b[0m eta \u001b[36m0:00:00\u001b[0m\n",
            "\u001b[?25h"
          ]
        },
        {
          "output_type": "display_data",
          "data": {
            "text/plain": [
              "<IPython.core.display.Javascript object>"
            ],
            "application/javascript": [
              "\n",
              "        window._wandbApiKey = new Promise((resolve, reject) => {\n",
              "            function loadScript(url) {\n",
              "            return new Promise(function(resolve, reject) {\n",
              "                let newScript = document.createElement(\"script\");\n",
              "                newScript.onerror = reject;\n",
              "                newScript.onload = resolve;\n",
              "                document.body.appendChild(newScript);\n",
              "                newScript.src = url;\n",
              "            });\n",
              "            }\n",
              "            loadScript(\"https://cdn.jsdelivr.net/npm/postmate/build/postmate.min.js\").then(() => {\n",
              "            const iframe = document.createElement('iframe')\n",
              "            iframe.style.cssText = \"width:0;height:0;border:none\"\n",
              "            document.body.appendChild(iframe)\n",
              "            const handshake = new Postmate({\n",
              "                container: iframe,\n",
              "                url: 'https://wandb.ai/authorize'\n",
              "            });\n",
              "            const timeout = setTimeout(() => reject(\"Couldn't auto authenticate\"), 5000)\n",
              "            handshake.then(function(child) {\n",
              "                child.on('authorize', data => {\n",
              "                    clearTimeout(timeout)\n",
              "                    resolve(data)\n",
              "                });\n",
              "            });\n",
              "            })\n",
              "        });\n",
              "    "
            ]
          },
          "metadata": {}
        },
        {
          "output_type": "stream",
          "name": "stderr",
          "text": [
            "\u001b[34m\u001b[1mwandb\u001b[0m: Logging into wandb.ai. (Learn how to deploy a W&B server locally: https://wandb.me/wandb-server)\n",
            "\u001b[34m\u001b[1mwandb\u001b[0m: You can find your API key in your browser here: https://wandb.ai/authorize\n",
            "wandb: Paste an API key from your profile and hit enter, or press ctrl+c to quit:"
          ]
        },
        {
          "name": "stdout",
          "output_type": "stream",
          "text": [
            " ··········\n"
          ]
        },
        {
          "output_type": "stream",
          "name": "stderr",
          "text": [
            "\u001b[34m\u001b[1mwandb\u001b[0m: Appending key for api.wandb.ai to your netrc file: /root/.netrc\n"
          ]
        },
        {
          "output_type": "execute_result",
          "data": {
            "text/plain": [
              "True"
            ]
          },
          "metadata": {},
          "execution_count": 1
        }
      ]
    },
    {
      "cell_type": "markdown",
      "source": [
        "## Installing libraries 📚"
      ],
      "metadata": {
        "id": "F5JDlRY-Nhh_"
      }
    },
    {
      "cell_type": "code",
      "source": [
        "!pip install gym==0.25.2\n",
        "#needed from March\n",
        "!pip install numpy==1.23.5"
      ],
      "metadata": {
        "colab": {
          "base_uri": "https://localhost:8080/"
        },
        "id": "NfXquseoNiSm",
        "outputId": "be783395-9ee4-4b00-86da-caeae77e9f70"
      },
      "execution_count": null,
      "outputs": [
        {
          "output_type": "stream",
          "name": "stdout",
          "text": [
            "Requirement already satisfied: gym==0.25.2 in /usr/local/lib/python3.10/dist-packages (0.25.2)\n",
            "Requirement already satisfied: numpy>=1.18.0 in /usr/local/lib/python3.10/dist-packages (from gym==0.25.2) (1.23.5)\n",
            "Requirement already satisfied: cloudpickle>=1.2.0 in /usr/local/lib/python3.10/dist-packages (from gym==0.25.2) (2.2.1)\n",
            "Requirement already satisfied: gym-notices>=0.0.4 in /usr/local/lib/python3.10/dist-packages (from gym==0.25.2) (0.0.8)\n",
            "Requirement already satisfied: numpy==1.23.5 in /usr/local/lib/python3.10/dist-packages (1.23.5)\n"
          ]
        }
      ]
    },
    {
      "cell_type": "markdown",
      "source": [
        "## Setting things up for the environment 🌍 🪖"
      ],
      "metadata": {
        "id": "VKJiyItvPINy"
      }
    },
    {
      "cell_type": "code",
      "source": [
        "import os\n",
        "\n",
        "#saving current directory just to be sure\n",
        "content_dir = os.getcwd()\n",
        "\n",
        "#cloning Fufi repo from git\n",
        "!git clone https://github.com/Gaianeve/gym-Fufi.git\n",
        "#installing things\n",
        "!pip install /content/gym-Fufi"
      ],
      "metadata": {
        "id": "VsHS4kG0PIzB"
      },
      "execution_count": null,
      "outputs": []
    },
    {
      "cell_type": "code",
      "source": [
        "# Enter the environment directory\n",
        "%cd /content/gym-Fufi\n",
        "# Actually importing the library for our environment\n",
        "import gym_Fufi"
      ],
      "metadata": {
        "id": "br2wneHpPNeT"
      },
      "execution_count": null,
      "outputs": []
    },
    {
      "cell_type": "code",
      "source": [
        "#get back to content directory so I save everything there\n",
        "%cd ..\n",
        "!pwd"
      ],
      "metadata": {
        "id": "eJF9TbTTPQHr"
      },
      "execution_count": null,
      "outputs": []
    },
    {
      "cell_type": "markdown",
      "source": [
        "## importing libraries and functions 📚\n"
      ],
      "metadata": {
        "id": "j-x6XBUbPTuH"
      }
    },
    {
      "cell_type": "code",
      "source": [
        "#libraries\n",
        "import argparse\n",
        "import random\n",
        "import time\n",
        "from distutils.util import strtobool\n",
        "import gym\n",
        "import numpy as np\n",
        "\n",
        "import torch\n",
        "import torch.nn as nn\n",
        "import torch.optim as optim\n",
        "import torch.optim.lr_scheduler as lr_scheduler\n",
        "from torch.distributions.categorical import Categorical\n",
        "from torch.utils.tensorboard import SummaryWriter\n",
        "from torchsummary import summary"
      ],
      "metadata": {
        "id": "k9cov0f4PXf-"
      },
      "execution_count": null,
      "outputs": []
    },
    {
      "cell_type": "markdown",
      "source": [
        "## Log needed function from files 📡\n",
        "Loading files directly from git, so I don't have to upload it by hand."
      ],
      "metadata": {
        "id": "Qj7CFfgcPmoh"
      }
    },
    {
      "cell_type": "code",
      "source": [
        "#get files from git\n",
        "!git clone https://github.com/Gaianeve/FUFONE.git"
      ],
      "metadata": {
        "id": "_HEbAf60PrGS"
      },
      "execution_count": null,
      "outputs": []
    },
    {
      "cell_type": "code",
      "source": [
        "!pwd\n",
        "%cd FUFONE/PPO\n",
        "from environment import vectorize_env\n",
        "from agent_class import Agent\n",
        "from agent_utils import anneal, collect_data, GAE, PPO_train_agent, evaluate_agent\n",
        "\n",
        "#back to main directory\n",
        "%cd ..\n",
        "#import main function from file\n",
        "from main_function_sweep import main, parse_args"
      ],
      "metadata": {
        "id": "n8oN8OwQN373"
      },
      "execution_count": null,
      "outputs": []
    },
    {
      "cell_type": "code",
      "source": [
        "#back to content directory\n",
        "%cd .."
      ],
      "metadata": {
        "id": "5iOCicwYP5YN"
      },
      "execution_count": null,
      "outputs": []
    },
    {
      "cell_type": "markdown",
      "source": [
        "## Define the sweep 📑\n",
        "I assume to start with a random search, that is why we take random distribution:\n",
        "*   `ent_coef ` ➡ Discrete uniform distribution on integers. Between 0.01, that is the default value and 1, that is the thing that works best for now.\n",
        "*  ` num_envs`  ➡ list of values to try out\n",
        "*   `learning_rate` ➡  Quantized log uniform. Returns `round(X / q) * q` where `X` is` log_uniform_values`. Basically, a pretty good approximation of a log_q uniform distribution\n"
      ],
      "metadata": {
        "id": "_aGbm6Li1VpH"
      }
    },
    {
      "cell_type": "code",
      "source": [
        "import numpy as np\n",
        "import random\n",
        "\n",
        "# Define sweep config\n",
        "sweep_configuration = {\n",
        "    \"method\": \"random\",\n",
        "    \"name\": \"sweep_Fufi\",\n",
        "    \"metric\": {\"goal\": \"maximize\", \"name\": \"sum_episodes\"},\n",
        "    \"parameters\": {\n",
        "       \"num_steps\": {\"values\": [128, 256, 512, 2048, 4096, 8192]},\n",
        "       \"ent_coef\": {'distribution': 'uniform', 'min': 0.01,'max': 1},\n",
        "       \"num_envs\" : {\"values\": [2,4,8,16,32]},\n",
        "       \"learning_rate\":  {'distribution': 'uniform', 'min': 1.5e-7,'max': 1.5e-4}\n",
        "    },\n",
        "}\n"
      ],
      "metadata": {
        "id": "cWXt2P6o1VVc"
      },
      "execution_count": null,
      "outputs": []
    },
    {
      "cell_type": "code",
      "execution_count": null,
      "metadata": {
        "id": "GYvhH9VK0hkU"
      },
      "outputs": [],
      "source": [
        "#print the result\n",
        "import pprint\n",
        "pprint.pprint(sweep_configuration)"
      ]
    },
    {
      "cell_type": "markdown",
      "source": [
        "## Run main with the sweep 🏃 🧹\n",
        "The `wandb.sweep` function initializes the sweep using the configuration. The `wandb.agent `function runs the sweep, executing the `sweep_main` function for each set of parameters.\n",
        "\n",
        "📚 **Handling Parameters in Script**: In `sweep_main`, `wandb.init()` initializes a run. The script updates the args with the parameters from the sweep `(wandb.config)`, which are then passed to the main function.\n",
        "\n",
        "📚 **Note**: Added `if __name__ == \"__main__\":` This ensures that main is called only when the script is executed directly, not when imported as a module."
      ],
      "metadata": {
        "id": "YnfIJfjCGrZw"
      }
    },
    {
      "cell_type": "code",
      "source": [
        "import wandb\n",
        "if __name__ == \"__main__\":\n",
        "    sweep_id = wandb.sweep(sweep=sweep_configuration, project=\"Fufi_sweep_trials\")  # Set up the sweep\n",
        "\n",
        "    def sweep_main():\n",
        "       with wandb.init() as run:\n",
        "        # retrieve the parser\n",
        "        args = parse_args()\n",
        "\n",
        "        # Update args with sweep parameters\n",
        "        args.learning_rate = wandb.config.learning_rate\n",
        "        args.num_steps = wandb.config.num_steps\n",
        "        args.ent_coef = wandb.config.ent_coef\n",
        "        args.num_envs = wandb.config.num_envs\n",
        "\n",
        "        main()\n"
      ],
      "metadata": {
        "id": "L6TXXCcTEJiY"
      },
      "execution_count": null,
      "outputs": []
    },
    {
      "cell_type": "code",
      "source": [
        " wandb.agent(sweep_id, function=sweep_main, count = 10)"
      ],
      "metadata": {
        "id": "YsAeQ7STG7IA"
      },
      "execution_count": null,
      "outputs": []
    },
    {
      "cell_type": "code",
      "source": [
        "import shutil\n",
        "shutil.rmtree('FUFONE')"
      ],
      "metadata": {
        "id": "zXUTZu7Zvus7"
      },
      "execution_count": 14,
      "outputs": []
    },
    {
      "cell_type": "code",
      "source": [],
      "metadata": {
        "id": "4d6pcJ3MzCyV"
      },
      "execution_count": null,
      "outputs": []
    }
  ]
}