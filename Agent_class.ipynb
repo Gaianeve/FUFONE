{
  "nbformat": 4,
  "nbformat_minor": 0,
  "metadata": {
    "colab": {
      "provenance": [],
      "toc_visible": true
    },
    "kernelspec": {
      "name": "python3",
      "display_name": "Python 3"
    },
    "language_info": {
      "name": "python"
    }
  },
  "cells": [
    {
      "cell_type": "markdown",
      "source": [
        "# Agent class\n",
        "Basically the actor-critic NN"
      ],
      "metadata": {
        "id": "_0_MeWjbEFo3"
      }
    },
    {
      "cell_type": "code",
      "source": [
        "# importing libraries\n",
        "import numpy as np\n",
        "import torch\n",
        "import torch.nn as nn\n",
        "from torch.distributions.categorical import Categorical"
      ],
      "metadata": {
        "id": "jDk56kzmENVZ"
      },
      "execution_count": 1,
      "outputs": []
    },
    {
      "cell_type": "code",
      "source": [
        "# init layer\n",
        "def layer_init(layer, std=np.sqrt(2), bias_const=0.0):\n",
        "  torch.nn.init.orthogonal_(layer.weight, std)\n",
        "  torch.nn.init.constant_(layer.bias, bias_const)\n",
        "  return layer\n"
      ],
      "metadata": {
        "id": "zVBgXyyIEja5"
      },
      "execution_count": 2,
      "outputs": []
    },
    {
      "cell_type": "code",
      "source": [
        "# agent class\n",
        "class Agent(nn.Module):\n",
        "  def __init__(self, envs):\n",
        "      super(Agent, self).__init__()\n",
        "      self.critic = nn.Sequential(\n",
        "          layer_init(nn.Linear(np.array(envs.single_observation_space.shape).prod(), 64)),\n",
        "          nn.Tanh(),\n",
        "          layer_init(nn.Linear(64, 64)),\n",
        "          nn.Tanh(),\n",
        "          layer_init(nn.Linear(64, 1), std=1.0),\n",
        "      )\n",
        "      self.actor = nn.Sequential(\n",
        "          layer_init(nn.Linear(np.array(envs.single_observation_space.shape).prod(), 64)),\n",
        "          nn.Tanh(),\n",
        "          layer_init(nn.Linear(64, 64)),\n",
        "          nn.Tanh(),\n",
        "          layer_init(nn.Linear(64, envs.single_action_space.n), std=0.01),\n",
        "      )\n",
        "\n",
        "  def get_value(self, x):\n",
        "      return self.critic(x)\n",
        "\n",
        "  def get_action_and_value(self, x, action=None):\n",
        "      logits = self.actor(x)\n",
        "      probs = Categorical(logits=logits)\n",
        "      if action is None:\n",
        "          action = probs.sample()\n",
        "      return action, probs.log_prob(action), probs.entropy(), self.critic(x)"
      ],
      "metadata": {
        "id": "kK7u2SZNEgJZ"
      },
      "execution_count": 3,
      "outputs": []
    },
    {
      "cell_type": "code",
      "source": [],
      "metadata": {
        "id": "ECUi965VFEp-"
      },
      "execution_count": null,
      "outputs": []
    }
  ]
}